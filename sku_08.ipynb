{
 "cells": [
  {
   "cell_type": "code",
   "execution_count": 1,
   "id": "30091528-2319-4cbe-909b-c3955d06968c",
   "metadata": {},
   "outputs": [],
   "source": [
    "import pyodbc\n",
    "import pandas as pd\n",
    "from sqlalchemy import create_engine\n",
    "from office365.sharepoint.client_context import ClientContext\n",
    "from office365.sharepoint.files.file import File\n",
    "from office365.runtime.auth.user_credential import UserCredential\n",
    "from io import BytesIO\n",
    "import pyodbc\n",
    "import pandas as pd\n",
    "import re\n",
    "from office365.sharepoint.client_context import ClientContext\n",
    "from office365.sharepoint.files.file import File\n",
    "import pandas as pd\n",
    "from io import StringIO\n",
    "from office365.runtime.auth.user_credential import UserCredential\n",
    "import smtplib\n",
    "from email.message import EmailMessage\n",
    "import os\n",
    "from datetime import datetime, timedelta\n"
   ]
  },
  {
   "cell_type": "code",
   "execution_count": 2,
   "id": "74f05cb2-2ed1-4f07-a0cc-da484af0dd78",
   "metadata": {},
   "outputs": [
    {
     "name": "stderr",
     "output_type": "stream",
     "text": [
      "C:\\Users\\DarshanaPrasad\\AppData\\Local\\Temp\\ipykernel_17072\\3585699339.py:33: UserWarning: pandas only supports SQLAlchemy connectable (engine/connection) or database string URI or sqlite3 DBAPI2 connection. Other DBAPI2 objects are not tested. Please consider using SQLAlchemy.\n",
      "  df = pd.read_sql(query, conn)\n"
     ]
    },
    {
     "ename": "DatabaseError",
     "evalue": "Execution failed on sql '\n\nSELECT \n    COALESCE(A.PRODUCT_CODE, B.PRODUCT_CODE, C.PRODUCT_CODE ,D.[ITEM CODE]) AS PRODUCT_CODE,\n    A.AVAILABLE_STOCK AS KOTTE_STOCK,\n    B.AVAILABLE_STOCK AS COLOMBO_STOCK,\n    C.AVAILABLE_STOCK AS ATTIDIYA_STOCK,\n    MAX(CASE WHEN D.BC_LOCATION = 'PWH' THEN D.ITEM_SIH END) AS PWH_STOCK,\n    MAX(CASE WHEN D.BC_LOCATION = 'MWH' THEN D.ITEM_SIH END) AS MWH_STOCK\nFROM [myPOS_DB].[dbo].[API_STOCK_KOTTE_OUTLET] A\nFULL OUTER JOIN [myPOS_DB].[dbo].[API_STOCK_COLOMBO_OUTLET] B \n    ON A.PRODUCT_CODE = B.PRODUCT_CODE\nFULL OUTER JOIN [myPOS_DB].[dbo].[API_STOCK_ATTIDIYA_OUTLET] C \n    ON COALESCE(A.PRODUCT_CODE, B.PRODUCT_CODE) = C.PRODUCT_CODE\nLEFT JOIN [myPOS_DB].[dbo].[AAA_ITEM_LISTING] D\n    ON COALESCE(A.PRODUCT_CODE, B.PRODUCT_CODE, C.PRODUCT_CODE) = D.[ITEM CODE]\nWHERE COALESCE(A.PRODUCT_CODE, B.PRODUCT_CODE, C.PRODUCT_CODE, D.[ITEM CODE]) LIKE '0%'\nGROUP BY COALESCE(A.PRODUCT_CODE, B.PRODUCT_CODE, C.PRODUCT_CODE ,D.[ITEM CODE]),\n         A.AVAILABLE_STOCK,\n         B.AVAILABLE_STOCK,\n         C.AVAILABLE_STOCK;\n\n\n\n': ('42000', '[42000] [Microsoft][ODBC Driver 17 for SQL Server][SQL Server]TCP Provider: A connection attempt failed because the connected party did not properly respond after a period of time, or established connection failed because connected host has failed to respond.\\r\\n (10060) (SQLExecDirectW); [42000] [Microsoft][ODBC Driver 17 for SQL Server][SQL Server]OLE DB provider \"SQLNCLI11\" for linked server \"124.43.68.160\\\\SQL2012,56241\" returned message \"Login timeout expired\". (7412); [42000] [Microsoft][ODBC Driver 17 for SQL Server][SQL Server]OLE DB provider \"SQLNCLI11\" for linked server \"124.43.68.160\\\\SQL2012,56241\" returned message \"A network-related or instance-specific error has occurred while establishing a connection to SQL Server. Server is not found or not accessible. Check if instance name is correct and if SQL Server is configured to allow remote connections. For more information see SQL Server Books Online.\". (7412)')",
     "output_type": "error",
     "traceback": [
      "\u001b[1;31m---------------------------------------------------------------------------\u001b[0m",
      "\u001b[1;31mProgrammingError\u001b[0m                          Traceback (most recent call last)",
      "File \u001b[1;32m~\\anaconda3\\Lib\\site-packages\\pandas\\io\\sql.py:2262\u001b[0m, in \u001b[0;36mSQLiteDatabase.execute\u001b[1;34m(self, sql, params)\u001b[0m\n\u001b[0;32m   2261\u001b[0m \u001b[38;5;28;01mtry\u001b[39;00m:\n\u001b[1;32m-> 2262\u001b[0m     cur\u001b[38;5;241m.\u001b[39mexecute(sql, \u001b[38;5;241m*\u001b[39margs)\n\u001b[0;32m   2263\u001b[0m     \u001b[38;5;28;01mreturn\u001b[39;00m cur\n",
      "\u001b[1;31mProgrammingError\u001b[0m: ('42000', '[42000] [Microsoft][ODBC Driver 17 for SQL Server][SQL Server]TCP Provider: A connection attempt failed because the connected party did not properly respond after a period of time, or established connection failed because connected host has failed to respond.\\r\\n (10060) (SQLExecDirectW); [42000] [Microsoft][ODBC Driver 17 for SQL Server][SQL Server]OLE DB provider \"SQLNCLI11\" for linked server \"124.43.68.160\\\\SQL2012,56241\" returned message \"Login timeout expired\". (7412); [42000] [Microsoft][ODBC Driver 17 for SQL Server][SQL Server]OLE DB provider \"SQLNCLI11\" for linked server \"124.43.68.160\\\\SQL2012,56241\" returned message \"A network-related or instance-specific error has occurred while establishing a connection to SQL Server. Server is not found or not accessible. Check if instance name is correct and if SQL Server is configured to allow remote connections. For more information see SQL Server Books Online.\". (7412)')",
      "\nThe above exception was the direct cause of the following exception:\n",
      "\u001b[1;31mDatabaseError\u001b[0m                             Traceback (most recent call last)",
      "Cell \u001b[1;32mIn[2], line 33\u001b[0m\n\u001b[0;32m      6\u001b[0m conn \u001b[38;5;241m=\u001b[39m pyodbc\u001b[38;5;241m.\u001b[39mconnect(\u001b[38;5;124mf\u001b[39m\u001b[38;5;124m'\u001b[39m\u001b[38;5;124mDRIVER=\u001b[39m\u001b[38;5;130;01m{{\u001b[39;00m\u001b[38;5;124mODBC Driver 17 for SQL Server\u001b[39m\u001b[38;5;130;01m}}\u001b[39;00m\u001b[38;5;124m;SERVER=\u001b[39m\u001b[38;5;132;01m{\u001b[39;00mserver\u001b[38;5;132;01m}\u001b[39;00m\u001b[38;5;124m;DATABASE=\u001b[39m\u001b[38;5;132;01m{\u001b[39;00mdatabase\u001b[38;5;132;01m}\u001b[39;00m\u001b[38;5;124m;UID=\u001b[39m\u001b[38;5;132;01m{\u001b[39;00musername\u001b[38;5;132;01m}\u001b[39;00m\u001b[38;5;124m;PWD=\u001b[39m\u001b[38;5;132;01m{\u001b[39;00mpassword\u001b[38;5;132;01m}\u001b[39;00m\u001b[38;5;124m'\u001b[39m)\n\u001b[0;32m      8\u001b[0m query \u001b[38;5;241m=\u001b[39m \u001b[38;5;124m\"\"\"\u001b[39m\n\u001b[0;32m      9\u001b[0m \n\u001b[0;32m     10\u001b[0m \u001b[38;5;124mSELECT \u001b[39m\n\u001b[1;32m   (...)\u001b[0m\n\u001b[0;32m     31\u001b[0m \n\u001b[0;32m     32\u001b[0m \u001b[38;5;124m\"\"\"\u001b[39m\n\u001b[1;32m---> 33\u001b[0m df \u001b[38;5;241m=\u001b[39m pd\u001b[38;5;241m.\u001b[39mread_sql(query, conn)\n\u001b[0;32m     35\u001b[0m conn\u001b[38;5;241m.\u001b[39mclose()\n",
      "File \u001b[1;32m~\\anaconda3\\Lib\\site-packages\\pandas\\io\\sql.py:654\u001b[0m, in \u001b[0;36mread_sql\u001b[1;34m(sql, con, index_col, coerce_float, params, parse_dates, columns, chunksize, dtype_backend, dtype)\u001b[0m\n\u001b[0;32m    652\u001b[0m \u001b[38;5;28;01mwith\u001b[39;00m pandasSQL_builder(con) \u001b[38;5;28;01mas\u001b[39;00m pandas_sql:\n\u001b[0;32m    653\u001b[0m     \u001b[38;5;28;01mif\u001b[39;00m \u001b[38;5;28misinstance\u001b[39m(pandas_sql, SQLiteDatabase):\n\u001b[1;32m--> 654\u001b[0m         \u001b[38;5;28;01mreturn\u001b[39;00m pandas_sql\u001b[38;5;241m.\u001b[39mread_query(\n\u001b[0;32m    655\u001b[0m             sql,\n\u001b[0;32m    656\u001b[0m             index_col\u001b[38;5;241m=\u001b[39mindex_col,\n\u001b[0;32m    657\u001b[0m             params\u001b[38;5;241m=\u001b[39mparams,\n\u001b[0;32m    658\u001b[0m             coerce_float\u001b[38;5;241m=\u001b[39mcoerce_float,\n\u001b[0;32m    659\u001b[0m             parse_dates\u001b[38;5;241m=\u001b[39mparse_dates,\n\u001b[0;32m    660\u001b[0m             chunksize\u001b[38;5;241m=\u001b[39mchunksize,\n\u001b[0;32m    661\u001b[0m             dtype_backend\u001b[38;5;241m=\u001b[39mdtype_backend,\n\u001b[0;32m    662\u001b[0m             dtype\u001b[38;5;241m=\u001b[39mdtype,\n\u001b[0;32m    663\u001b[0m         )\n\u001b[0;32m    665\u001b[0m     \u001b[38;5;28;01mtry\u001b[39;00m:\n\u001b[0;32m    666\u001b[0m         _is_table_name \u001b[38;5;241m=\u001b[39m pandas_sql\u001b[38;5;241m.\u001b[39mhas_table(sql)\n",
      "File \u001b[1;32m~\\anaconda3\\Lib\\site-packages\\pandas\\io\\sql.py:2326\u001b[0m, in \u001b[0;36mSQLiteDatabase.read_query\u001b[1;34m(self, sql, index_col, coerce_float, parse_dates, params, chunksize, dtype, dtype_backend)\u001b[0m\n\u001b[0;32m   2315\u001b[0m \u001b[38;5;28;01mdef\u001b[39;00m \u001b[38;5;21mread_query\u001b[39m(\n\u001b[0;32m   2316\u001b[0m     \u001b[38;5;28mself\u001b[39m,\n\u001b[0;32m   2317\u001b[0m     sql,\n\u001b[1;32m   (...)\u001b[0m\n\u001b[0;32m   2324\u001b[0m     dtype_backend: DtypeBackend \u001b[38;5;241m|\u001b[39m Literal[\u001b[38;5;124m\"\u001b[39m\u001b[38;5;124mnumpy\u001b[39m\u001b[38;5;124m\"\u001b[39m] \u001b[38;5;241m=\u001b[39m \u001b[38;5;124m\"\u001b[39m\u001b[38;5;124mnumpy\u001b[39m\u001b[38;5;124m\"\u001b[39m,\n\u001b[0;32m   2325\u001b[0m ) \u001b[38;5;241m-\u001b[39m\u001b[38;5;241m>\u001b[39m DataFrame \u001b[38;5;241m|\u001b[39m Iterator[DataFrame]:\n\u001b[1;32m-> 2326\u001b[0m     cursor \u001b[38;5;241m=\u001b[39m \u001b[38;5;28mself\u001b[39m\u001b[38;5;241m.\u001b[39mexecute(sql, params)\n\u001b[0;32m   2327\u001b[0m     columns \u001b[38;5;241m=\u001b[39m [col_desc[\u001b[38;5;241m0\u001b[39m] \u001b[38;5;28;01mfor\u001b[39;00m col_desc \u001b[38;5;129;01min\u001b[39;00m cursor\u001b[38;5;241m.\u001b[39mdescription]\n\u001b[0;32m   2329\u001b[0m     \u001b[38;5;28;01mif\u001b[39;00m chunksize \u001b[38;5;129;01mis\u001b[39;00m \u001b[38;5;129;01mnot\u001b[39;00m \u001b[38;5;28;01mNone\u001b[39;00m:\n",
      "File \u001b[1;32m~\\anaconda3\\Lib\\site-packages\\pandas\\io\\sql.py:2274\u001b[0m, in \u001b[0;36mSQLiteDatabase.execute\u001b[1;34m(self, sql, params)\u001b[0m\n\u001b[0;32m   2271\u001b[0m     \u001b[38;5;28;01mraise\u001b[39;00m ex \u001b[38;5;28;01mfrom\u001b[39;00m \u001b[38;5;21;01minner_exc\u001b[39;00m\n\u001b[0;32m   2273\u001b[0m ex \u001b[38;5;241m=\u001b[39m DatabaseError(\u001b[38;5;124mf\u001b[39m\u001b[38;5;124m\"\u001b[39m\u001b[38;5;124mExecution failed on sql \u001b[39m\u001b[38;5;124m'\u001b[39m\u001b[38;5;132;01m{\u001b[39;00msql\u001b[38;5;132;01m}\u001b[39;00m\u001b[38;5;124m'\u001b[39m\u001b[38;5;124m: \u001b[39m\u001b[38;5;132;01m{\u001b[39;00mexc\u001b[38;5;132;01m}\u001b[39;00m\u001b[38;5;124m\"\u001b[39m)\n\u001b[1;32m-> 2274\u001b[0m \u001b[38;5;28;01mraise\u001b[39;00m ex \u001b[38;5;28;01mfrom\u001b[39;00m \u001b[38;5;21;01mexc\u001b[39;00m\n",
      "\u001b[1;31mDatabaseError\u001b[0m: Execution failed on sql '\n\nSELECT \n    COALESCE(A.PRODUCT_CODE, B.PRODUCT_CODE, C.PRODUCT_CODE ,D.[ITEM CODE]) AS PRODUCT_CODE,\n    A.AVAILABLE_STOCK AS KOTTE_STOCK,\n    B.AVAILABLE_STOCK AS COLOMBO_STOCK,\n    C.AVAILABLE_STOCK AS ATTIDIYA_STOCK,\n    MAX(CASE WHEN D.BC_LOCATION = 'PWH' THEN D.ITEM_SIH END) AS PWH_STOCK,\n    MAX(CASE WHEN D.BC_LOCATION = 'MWH' THEN D.ITEM_SIH END) AS MWH_STOCK\nFROM [myPOS_DB].[dbo].[API_STOCK_KOTTE_OUTLET] A\nFULL OUTER JOIN [myPOS_DB].[dbo].[API_STOCK_COLOMBO_OUTLET] B \n    ON A.PRODUCT_CODE = B.PRODUCT_CODE\nFULL OUTER JOIN [myPOS_DB].[dbo].[API_STOCK_ATTIDIYA_OUTLET] C \n    ON COALESCE(A.PRODUCT_CODE, B.PRODUCT_CODE) = C.PRODUCT_CODE\nLEFT JOIN [myPOS_DB].[dbo].[AAA_ITEM_LISTING] D\n    ON COALESCE(A.PRODUCT_CODE, B.PRODUCT_CODE, C.PRODUCT_CODE) = D.[ITEM CODE]\nWHERE COALESCE(A.PRODUCT_CODE, B.PRODUCT_CODE, C.PRODUCT_CODE, D.[ITEM CODE]) LIKE '0%'\nGROUP BY COALESCE(A.PRODUCT_CODE, B.PRODUCT_CODE, C.PRODUCT_CODE ,D.[ITEM CODE]),\n         A.AVAILABLE_STOCK,\n         B.AVAILABLE_STOCK,\n         C.AVAILABLE_STOCK;\n\n\n\n': ('42000', '[42000] [Microsoft][ODBC Driver 17 for SQL Server][SQL Server]TCP Provider: A connection attempt failed because the connected party did not properly respond after a period of time, or established connection failed because connected host has failed to respond.\\r\\n (10060) (SQLExecDirectW); [42000] [Microsoft][ODBC Driver 17 for SQL Server][SQL Server]OLE DB provider \"SQLNCLI11\" for linked server \"124.43.68.160\\\\SQL2012,56241\" returned message \"Login timeout expired\". (7412); [42000] [Microsoft][ODBC Driver 17 for SQL Server][SQL Server]OLE DB provider \"SQLNCLI11\" for linked server \"124.43.68.160\\\\SQL2012,56241\" returned message \"A network-related or instance-specific error has occurred while establishing a connection to SQL Server. Server is not found or not accessible. Check if instance name is correct and if SQL Server is configured to allow remote connections. For more information see SQL Server Books Online.\". (7412)')"
     ]
    }
   ],
   "source": [
    "server = 'server'\n",
    "database = 'database'\n",
    "username = 'User'\n",
    "password = 'password'\n",
    "\n",
    "conn = pyodbc.connect(f'DRIVER={{ODBC Driver 17 for SQL Server}};SERVER={server};DATABASE={database};UID={username};PWD={password}')\n",
    "\n",
    "query = \"\"\"\n",
    "\n",
    "SELECT * from where order by group by;\n",
    "\n",
    "\n",
    "\n",
    "\"\"\"\n",
    "df = pd.read_sql(query, conn)\n",
    "\n",
    "conn.close()"
   ]
  },
  {
   "cell_type": "code",
   "execution_count": null,
   "id": "2b60d382-ab0c-447b-a3d8-46f5e0b1754c",
   "metadata": {},
   "outputs": [],
   "source": [
    "# Remove leading zeros from PRODUCT_CODE in df_sql\n",
    "df['PRODUCT_CODE'] = df['PRODUCT_CODE'].astype(str).str.lstrip('0')\n",
    "df.head()"
   ]
  },
  {
   "cell_type": "code",
   "execution_count": null,
   "id": "313a167d-816a-40d9-8f3f-f0c2196734d0",
   "metadata": {},
   "outputs": [],
   "source": [
    "pip install xlsxwriter"
   ]
  },
  {
   "cell_type": "code",
   "execution_count": null,
   "id": "ab6f0d76-aa1e-4492-99de-238060b010d6",
   "metadata": {},
   "outputs": [],
   "source": [
    "from office365.sharepoint.client_context import ClientContext\n",
    "from office365.runtime.auth.user_credential import UserCredential\n",
    "import pandas as pd\n",
    "from io import BytesIO\n",
    "\n",
    "# SharePoint site and authentication details\n",
    "site_url = \"https://lk.sharepoint.com/sites\"\n",
    "username = \"emailsharepoint\"\n",
    "password = \"emailpassword\"\n",
    "\n",
    "# SharePoint file URL\n",
    "file_url = \"/sites/Stock/Shared%20Documents/Transfer-Outs%20Request/dont_touch/sku.xlsx\"\n",
    "#https://lk.sharepoint.com/sites/Stock/Shared%20Documents/Transfer-Outs%20Request/dont_touch/sku.xlsx\n",
    "# Authenticate SharePoint context\n",
    "ctx = ClientContext(site_url).with_credentials(UserCredential(username, password))\n",
    "\n",
    "# Get the file from SharePoint\n",
    "file = ctx.web.get_file_by_server_relative_url(file_url)\n",
    "file_object = BytesIO()\n",
    "file.download(file_object).execute_query()\n",
    "file_object.seek(0)  # Reset buffer position\n",
    "\n",
    "# Read all sheets from the SharePoint file\n",
    "sku_sheets = pd.read_excel(file_object, sheet_name=None)\n",
    "\n",
    "# Choose the correct sheet\n",
    "sheet_name = \"sku\"  # Update if needed\n",
    "if sheet_name in sku_sheets:\n",
    "    sku_sheet_df = sku_sheets[sheet_name]\n",
    "    \n",
    "    # Ensure both columns have the same data type before merging\n",
    "    sku_sheet_df['Items Code'] = sku_sheet_df['Items Code'].astype(str)\n",
    "    df['PRODUCT_CODE'] = df['PRODUCT_CODE'].astype(str)  # Ensure 'df' is defined\n",
    "    \n",
    "    # Perform the merge\n",
    "    merge_df = pd.merge(df, sku_sheet_df, left_on='PRODUCT_CODE', right_on='Items Code', how='right')\n",
    "    \n",
    "    # Display merged DataFrame\n",
    "    print(merge_df.head())  # Show first few rows\n",
    "    \n",
    "    # Save merge_df as a new Excel file\n",
    "    excel_buffer = BytesIO()\n",
    "    with pd.ExcelWriter(excel_buffer, engine='xlsxwriter') as writer:\n",
    "        merge_df.to_excel(writer, index=False, sheet_name='Merged_Data')  # Save merge_df to a new sheet\n",
    "        \n",
    "    excel_buffer.seek(0)  # Reset buffer position\n",
    "    \n",
    "    # Upload the Excel file back to SharePoint\n",
    "    target_folder_url = \"/sites/Stock/Shared Documents/Transfer-Outs Request/dont_touch\"\n",
    "    target_file_name = \"merged_data.xlsx\"  # New file name for the merged data\n",
    "    target_folder = ctx.web.get_folder_by_server_relative_url(target_folder_url)\n",
    "    \n",
    "    # Check if the file already exists and delete it\n",
    "    try:\n",
    "        existing_file = target_folder.files.get_by_url(target_file_name)\n",
    "        existing_file.delete_object().execute_query()\n",
    "        print(f\"Existing file '{target_file_name}' deleted.\")\n",
    "    except Exception as e:\n",
    "        print(f\"No existing file to delete: {e}\")\n",
    "    \n",
    "    # Upload the new file\n",
    "    target_file = target_folder.upload_file(target_file_name, excel_buffer).execute_query()\n",
    "    \n",
    "    # Print the server-relative URL of the uploaded file\n",
    "    print(f\"File '{target_file.serverRelativeUrl}' has been uploaded.\")\n",
    "else:\n",
    "    print(f\"Error: Sheet '{sheet_name}' not found in SKU file.\")\n"
   ]
  },
  {
   "cell_type": "code",
   "execution_count": null,
   "id": "6e7e55ba-ee59-4398-9079-4852329e15b9",
   "metadata": {},
   "outputs": [],
   "source": []
  },
  {
   "cell_type": "code",
   "execution_count": null,
   "id": "84a67363-d84e-4ed4-80a2-4dc421413441",
   "metadata": {},
   "outputs": [],
   "source": []
  }
 ],
 "metadata": {
  "kernelspec": {
   "display_name": "Python 3 (ipykernel)",
   "language": "python",
   "name": "python3"
  },
  "language_info": {
   "codemirror_mode": {
    "name": "ipython",
    "version": 3
   },
   "file_extension": ".py",
   "mimetype": "text/x-python",
   "name": "python",
   "nbconvert_exporter": "python",
   "pygments_lexer": "ipython3",
   "version": "3.11.7"
  }
 },
 "nbformat": 4,
 "nbformat_minor": 5
}
